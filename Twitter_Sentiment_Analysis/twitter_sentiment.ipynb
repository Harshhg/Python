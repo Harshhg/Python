{
  "nbformat": 4,
  "nbformat_minor": 0,
  "metadata": {
    "colab": {
      "name": "twitter_sentiment.ipynb",
      "provenance": [],
      "collapsed_sections": []
    },
    "kernelspec": {
      "name": "python3",
      "display_name": "Python 3"
    }
  },
  "cells": [
    {
      "cell_type": "code",
      "metadata": {
        "id": "qXNGOuMtLLrw",
        "colab_type": "code",
        "colab": {}
      },
      "source": [
        "import tweepy\n",
        "import matplotlib.pyplot as plt\n",
        "from textblob import TextBlob\n",
        "import re\n",
        "#import mpld3"
      ],
      "execution_count": 0,
      "outputs": []
    },
    {
      "cell_type": "code",
      "metadata": {
        "id": "Ck3D6PxMLYOP",
        "colab_type": "code",
        "colab": {}
      },
      "source": [
        "# All 4 authentication keys to access twitter API\n",
        "\n",
        "# To connect as OAth handler or jump server  / reverse proxy server\n",
        "consumer_key = ''\n",
        "consumer_secret = ''\n",
        "\n",
        "# from proxy server we need to connect to web server of twitter\n",
        "access_token=''\n",
        "access_secret=''"
      ],
      "execution_count": 0,
      "outputs": []
    },
    {
      "cell_type": "code",
      "metadata": {
        "id": "AlTFf8VOOwrm",
        "colab_type": "code",
        "colab": {}
      },
      "source": [
        "# Tweepy explore\n",
        "# Connecting to Jump server fo twitter\n",
        "auth=tweepy.OAuthHandler(consumer_key, consumer_secret)"
      ],
      "execution_count": 0,
      "outputs": []
    },
    {
      "cell_type": "code",
      "metadata": {
        "id": "7qBF_2COPDNc",
        "colab_type": "code",
        "colab": {}
      },
      "source": [
        "# Now we can connect from jump server to web server of twitter\n",
        "auth.set_access_token(access_token,access_secret)"
      ],
      "execution_count": 0,
      "outputs": []
    },
    {
      "cell_type": "code",
      "metadata": {
        "id": "UqApUBT0PYve",
        "colab_type": "code",
        "colab": {}
      },
      "source": [
        "# Now we can connect to API storage server of twitter\n",
        "api_connect = tweepy.API(auth)"
      ],
      "execution_count": 0,
      "outputs": []
    },
    {
      "cell_type": "code",
      "metadata": {
        "id": "QvrEGCWxPqM6",
        "colab_type": "code",
        "colab": {}
      },
      "source": [
        "# Now you can search any topic on twitter\n",
        "tweet_data = api_connect.search('Jammu Kashmir',count=30)"
      ],
      "execution_count": 0,
      "outputs": []
    },
    {
      "cell_type": "code",
      "metadata": {
        "id": "Mp2TybS3P4vD",
        "colab_type": "code",
        "colab": {}
      },
      "source": [
        "# Printing line by line\n",
        "f=open('tweets.txt','r')\n",
        "#for tweet in tweet_data:\n",
        "#  print(tweet.text)\n",
        "#  f.write(tweet.text)\n",
        "\n",
        "tweet_data=f.readlines()"
      ],
      "execution_count": 0,
      "outputs": []
    },
    {
      "cell_type": "code",
      "metadata": {
        "id": "kmmmydydQCmH",
        "colab_type": "code",
        "outputId": "34973bdc-d471-4bb7-b2d2-c30bc5e8537b",
        "colab": {
          "base_uri": "https://localhost:8080/",
          "height": 1000
        }
      },
      "source": [
        "pos=0  # Positive polarity\n",
        "neu=0  # Neutral polarity\n",
        "neg=0  # Negative polarity\n",
        "\n",
        "for tweet in tweet_data:\n",
        "  print(tweet)\n",
        "  analysis=TextBlob(tweet)   # Here it will apply NLP\n",
        "  print(analysis.sentiment)\n",
        "  if analysis.sentiment.polarity > 0:\n",
        "    print(\"positive\")\n",
        "    pos+=1\n",
        "  elif analysis.sentiment.polarity == 0:\n",
        "    print(\"Neutral\")\n",
        "    neu+=1\n",
        "  else:\n",
        "    print(\"Negative\")\n",
        "    neg+=1\n",
        "  # Will display the polarity of 20 tweets .."
      ],
      "execution_count": 0,
      "outputs": [
        {
          "output_type": "stream",
          "text": [
            "RT @mitalisaran: I swear I thought this was a piece from ⁦@TheOnion⁩.  https://t.co/pmtroVSry9RT @vettaiyanparak: @sumanthraman @rajinikanth 1) MGR centenary function ,speaks High on MGR- Rajini (ADMK)\n",
            "\n",
            "Sentiment(polarity=0.16, subjectivity=0.5399999999999999)\n",
            "positive\n",
            "2) BJP Function, speaks high ab…RT @republic: Rajinikanth lauds ‘Mission Kashmir’, says 'Amit Shah and PM Modi like Krishna-Arjuna'.\n",
            "\n",
            "Sentiment(polarity=0.16, subjectivity=0.5399999999999999)\n",
            "positive\n",
            "https://t.co/as4HvO0Le4RT @ANI: Prime Minister Narendra Modi, Defence Minister Rajnath Singh and Union Home Minister Amit Shah to attend the prayer meeting of lat…RT @RANlMUKERJI: Since Modi led gov came to power, rapes have increased big-time. India became the biggest hub of child trafficking. Women…RT @MPLadakh: Ladakh welcomes Modi Sarkar’s decision and thanks for UT for Ladakh https://t.co/8s53Q4gvZ5बेयर ग्रील्स ने मैन वर्सेस वाइल्ड के एपिसोड को लेकर कहा, \"जटिल परिस्थितियों में भी प्रधानमंत्री मोदी शांत और संतुलि… https://t.co/bg9I6swFy7RT @chirag: By repealing Article 370 in this unconstitutional manner, Modi has reopened the wounds of partition.\n",
            "\n",
            "Sentiment(polarity=0.2, subjectivity=0.2)\n",
            "positive\n",
            "\n",
            "\n",
            "Sentiment(polarity=0.0, subjectivity=0.0)\n",
            "Neutral\n",
            "India will pay a much big…Prime Minister Narendra Modi, Defence Minister Rajnath Singh and Union Home Minister Amit Shah to attend the prayer… https://t.co/Z34d0GwymdRT @republic: Rajinikanth lauds ‘Mission Kashmir’, says 'Amit Shah and PM Modi like Krishna-Arjuna'.\n",
            "\n",
            "Sentiment(polarity=0.2, subjectivity=0.2)\n",
            "positive\n",
            "https://t.co/as4HvO0Le4@SinghNavdeep @reema_omer Wait and see. What will do Modi’s hindatva government will do with minorities in India. Thand pay jee tano.RT @muglikar_: Dear @ndtv\n",
            "\n",
            "Sentiment(polarity=0.0, subjectivity=0.0)\n",
            "Neutral\n",
            "You guys targeted Modi Govt when fraudsters ran away but outrage when same is done for Tax evaders of your parent…#KashmirWithModi\n",
            "\n",
            "Sentiment(polarity=0.0, subjectivity=0.125)\n",
            "Neutral\n",
            "Due to the revocation of Article 370, the rights and responsibilities of every citizen in the coun… https://t.co/KCtQBfsbE2RT @Ish_Bhandari: Of all the moves by PM Modi Govt in last 5 yrs, my absolute favourite is Abolishing Art 370.RT @HamidMirPAK: Netanyahu and Modi are two sides of a same coin both are involved in state terrorism against Palestinians and Kashmiris I…RT @arsched: اقبال بڑا اپدیشک ہے من باتوں میں موہ لیتا ہے \n",
            "\n",
            "Sentiment(polarity=0.018750000000000003, subjectivity=0.3666666666666667)\n",
            "positive\n",
            "گفتار کا یہ غازی تو بنا کردار کا غازی بن نہ سکا \n",
            "\n",
            "Sentiment(polarity=0.0, subjectivity=0.0)\n",
            "Neutral\n",
            "Paper tigers seem complicit wit…RT @davidfrawleyved: The international multibillion dollar conversion business targets India. Must be carefully monitored. \n",
            "\n",
            "Sentiment(polarity=-0.05, subjectivity=0.5)\n",
            "Negative\n",
            "Often promotes…@BDUTT Amendments in RTI act Anna hazare  is sleeping,Anna is eating ganna Or out of media access..\n",
            "\n",
            "Sentiment(polarity=0.0, subjectivity=0.0)\n",
            "Neutral\n",
            " Pm modi slogan… https://t.co/V9Pl21r8pjRT @surjitbhalla: A definitive version of Kashmir history 1947-2019 summarized in quintessential M J Akbar style; \"Amit Shah raised a basic…RT @Tariq_JS: Killer Modi was banned to enter the US and other countries in the past since he was deemed “the butcher of Gujrat” he is the…मोदी सरकार की नई योजना- रसोई में इस्‍तेमाल हुए तेल से चलेगी आपकी कार\n",
            "\n",
            "Sentiment(polarity=-0.1875, subjectivity=0.3125)\n",
            "Negative\n",
            "https://t.co/6si70wa6WZ\n",
            "\n",
            "Sentiment(polarity=0.0, subjectivity=0.0)\n",
            "Neutral\n",
            "\n",
            "\n",
            "Sentiment(polarity=0.0, subjectivity=0.0)\n",
            "Neutral\n",
            "via NaMo App https://t.co/cfv7bSI6nHRT @RANlMUKERJI: Since Modi led gov came to power, rapes have increased big-time. India became the biggest hub of child trafficking. Women…RT @mattbpurdy: Rare photos emerging from inside Kashmir after Modi put the majority Muslim region under virtual house arrest. With an expl…RT @arjunsethi81: Kashmir is under military occupation. Local leaders have been detained in secret locations &amp; popular dissent is being cru…RT @HamidMirPAK: Netanyahu and Modi are two sides of a same coin both are involved in state terrorism against Palestinians and Kashmiris I…RT @RANlMUKERJI: Since Modi led gov came to power, rapes have increased big-time. India became the biggest hub of child trafficking. Women…RT @EconomicTimes: Modi govt believes a boost to farm export is a sure-shot way to help double farmers’ income by 2022 | #ETMagazine https:…@sardanarohit माफ़ करना सर लेकिन एक पत्रकार हमारे देश के सेना प्रमुख का अपमान करें ट्वीट करके लेकिन आप जैसे सच्चे प… https://t.co/p3uKoCA5rT\n",
            "Sentiment(polarity=0.04375, subjectivity=0.340625)\n",
            "positive\n"
          ],
          "name": "stdout"
        }
      ]
    },
    {
      "cell_type": "code",
      "metadata": {
        "id": "5e0ThU1CREcz",
        "colab_type": "code",
        "outputId": "aa1098fd-52e1-4399-e90a-3abe7189194c",
        "colab": {
          "base_uri": "https://localhost:8080/",
          "height": 283
        }
      },
      "source": [
        "# Plotting graph\n",
        "plt.xlabel(\"tags\")\n",
        "plt.ylabel(\"polarity\")\n",
        "plt.bar(['positive','neutral','negative'],[pos,neu,neg])\n",
        "plt.grid()\n",
        "plt.show()\n",
        "#mpld3.show()"
      ],
      "execution_count": 0,
      "outputs": [
        {
          "output_type": "display_data",
          "data": {
            "image/png": "[encoded data removed]",
            "text/plain": [
              "<Figure size 432x288 with 1 Axes>"
            ]
          },
          "metadata": {
            "tags": []
          }
        }
      ]
    },
    {
      "cell_type": "code",
      "metadata": {
        "id": "A6HM3_iwSuTu",
        "colab_type": "code",
        "outputId": "920fefce-2f25-4f65-f02a-f7f1d9856372",
        "colab": {
          "base_uri": "https://localhost:8080/",
          "height": 406
        }
      },
      "source": [
        "plt.pie([pos,neu,neg],labels=[\"positive\",\"neutral\",\"negative\"],autopct=\"%1.1f%%\")"
      ],
      "execution_count": 0,
      "outputs": [
        {
          "output_type": "execute_result",
          "data": {
            "text/plain": [
              "([<matplotlib.patches.Wedge at 0x7f320ea31be0>,\n",
              "  <matplotlib.patches.Wedge at 0x7f320ea31438>,\n",
              "  <matplotlib.patches.Wedge at 0x7f320ea2db70>],\n",
              " [Text(0.33991867422268784, 1.0461621742897658, 'positive'),\n",
              "  Text(-0.7360436312779135, -0.8174593401847111, 'neutral'),\n",
              "  Text(1.0049000355222, -0.4474102352511412, 'negative')],\n",
              " [Text(0.1854101859396479, 0.5706339132489631, '40.0%'),\n",
              "  Text(-0.4014783443334073, -0.4458869128280242, '46.7%'),\n",
              "  Text(0.548127292103018, -0.24404194650062244, '13.3%')])"
            ]
          },
          "metadata": {
            "tags": []
          },
          "execution_count": 29
        },
        {
          "output_type": "display_data",
          "data": {
            "image/png": "[encoded data removed]",
            "text/plain": [
              "<Figure size 432x288 with 1 Axes>"
            ]
          },
          "metadata": {
            "tags": []
          }
        }
      ]
    },
    {
      "cell_type": "code",
      "metadata": {
        "id": "LcYnw33b2OW7",
        "colab_type": "code",
        "colab": {}
      },
      "source": [
        ""
      ],
      "execution_count": 0,
      "outputs": []
    }
  ]
}
