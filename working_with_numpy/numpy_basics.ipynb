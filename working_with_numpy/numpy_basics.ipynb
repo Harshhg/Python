{
  "nbformat": 4,
  "nbformat_minor": 0,
  "metadata": {
    "colab": {
      "name": "numpy_basics.ipynb",
      "version": "0.3.2",
      "provenance": [],
      "collapsed_sections": []
    },
    "kernelspec": {
      "name": "python3",
      "display_name": "Python 3"
    }
  },
  "cells": [
    {
      "cell_type": "code",
      "metadata": {
        "id": "6bl8DG8LBcnN",
        "colab_type": "code",
        "outputId": "185586fe-fd20-40d6-c6ce-2c38bb7f1da4",
        "colab": {
          "base_uri": "https://localhost:8080/",
          "height": 134
        }
      },
      "source": [
        "import numpy as np\n",
        "\n",
        "single=np.array([1,2,3,4])\n",
        "multi=np.array([  [1,2,3],[4,5,6],[7,8,9],[10,11,12]    ])\n",
        "print(single)\n",
        "print(\"\\n\")\n",
        "print(multi+5)"
      ],
      "execution_count": 1,
      "outputs": [
        {
          "output_type": "stream",
          "text": [
            "[1 2 3 4]\n",
            "\n",
            "\n",
            "[[ 6  7  8]\n",
            " [ 9 10 11]\n",
            " [12 13 14]\n",
            " [15 16 17]]\n"
          ],
          "name": "stdout"
        }
      ]
    },
    {
      "cell_type": "code",
      "metadata": {
        "id": "G4bYiD30HDGg",
        "colab_type": "code",
        "outputId": "7f8a719d-7bdb-4e3d-d2c4-4607f2769f94",
        "colab": {
          "base_uri": "https://localhost:8080/",
          "height": 34
        }
      },
      "source": [
        "multi.shape    # displays the size of the matrix"
      ],
      "execution_count": 0,
      "outputs": [
        {
          "output_type": "execute_result",
          "data": {
            "text/plain": [
              "(4, 3)"
            ]
          },
          "metadata": {
            "tags": []
          },
          "execution_count": 34
        }
      ]
    },
    {
      "cell_type": "code",
      "metadata": {
        "id": "ozmFiLxgH7zM",
        "colab_type": "code",
        "outputId": "880dab6b-ab77-4f2d-f329-76af4ea7948a",
        "colab": {
          "base_uri": "https://localhost:8080/",
          "height": 50
        }
      },
      "source": [
        "print(multi[0:2])   # Displays limited number of rows"
      ],
      "execution_count": 0,
      "outputs": [
        {
          "output_type": "stream",
          "text": [
            "[[1 2 3]\n",
            " [4 5 6]]\n"
          ],
          "name": "stdout"
        }
      ]
    },
    {
      "cell_type": "code",
      "metadata": {
        "id": "KAXMCFhxIPlO",
        "colab_type": "code",
        "outputId": "2fb9a62a-c51f-43c3-9210-2425518f51a8",
        "colab": {
          "base_uri": "https://localhost:8080/",
          "height": 34
        }
      },
      "source": [
        "print(multi[0:,1])   # Display only selected column values from all rows.  x[row-range, column-range],  x[0:all rows  ,  1 range  ]"
      ],
      "execution_count": 0,
      "outputs": [
        {
          "output_type": "stream",
          "text": [
            "[ 2  5  8 11]\n"
          ],
          "name": "stdout"
        }
      ]
    },
    {
      "cell_type": "code",
      "metadata": {
        "id": "DFN5E7k5Iev1",
        "colab_type": "code",
        "outputId": "9dae26a4-8f4e-453d-fe0d-cbc3e1c67a69",
        "colab": {
          "base_uri": "https://localhost:8080/",
          "height": 84
        }
      },
      "source": [
        "print(multi[0:,[0,2]])  #  Display the 1st and 3rd column from all rows..  multi(row range,   [column index])"
      ],
      "execution_count": 0,
      "outputs": [
        {
          "output_type": "stream",
          "text": [
            "[[ 1  3]\n",
            " [ 4  6]\n",
            " [ 7  9]\n",
            " [10 12]]\n"
          ],
          "name": "stdout"
        }
      ]
    },
    {
      "cell_type": "code",
      "metadata": {
        "id": "_seCGxi7JuaM",
        "colab_type": "code",
        "outputId": "4002506b-233e-4874-a00d-d435491ad70d",
        "colab": {
          "base_uri": "https://localhost:8080/",
          "height": 50
        }
      },
      "source": [
        "print(multi[[0,3],2:] )   #  Display 1st value of last column of 1st and last row"
      ],
      "execution_count": 0,
      "outputs": [
        {
          "output_type": "stream",
          "text": [
            "[[ 3]\n",
            " [12]]\n"
          ],
          "name": "stdout"
        }
      ]
    },
    {
      "cell_type": "code",
      "metadata": {
        "id": "A9ieO1jEOZj-",
        "colab_type": "code",
        "outputId": "2d3a5b6f-615f-4c16-ebdb-9e1064311801",
        "colab": {
          "base_uri": "https://localhost:8080/",
          "height": 67
        }
      },
      "source": [
        "print(multi.reshape(3,4))    #  Change the shape of the matrix "
      ],
      "execution_count": 0,
      "outputs": [
        {
          "output_type": "stream",
          "text": [
            "[[ 1  2  3  4]\n",
            " [ 5  6  7  8]\n",
            " [ 9 10 11 12]]\n"
          ],
          "name": "stdout"
        }
      ]
    },
    {
      "cell_type": "code",
      "metadata": {
        "id": "MMyQJRplOgIM",
        "colab_type": "code",
        "outputId": "8baf3ea7-fe52-4b93-cc0a-135239b47085",
        "colab": {
          "base_uri": "https://localhost:8080/",
          "height": 50
        }
      },
      "source": [
        "np.zeros((2,3))    #  Fill the array with zeroes"
      ],
      "execution_count": 0,
      "outputs": [
        {
          "output_type": "execute_result",
          "data": {
            "text/plain": [
              "array([[0., 0., 0.],\n",
              "       [0., 0., 0.]])"
            ]
          },
          "metadata": {
            "tags": []
          },
          "execution_count": 77
        }
      ]
    },
    {
      "cell_type": "code",
      "metadata": {
        "id": "XXnAjtfsP4wr",
        "colab_type": "code",
        "outputId": "48effc76-b9e8-4454-d5e9-ec20287a32e6",
        "colab": {
          "base_uri": "https://localhost:8080/",
          "height": 50
        }
      },
      "source": [
        "np.ones((2,3))  #  Fill the array with ones"
      ],
      "execution_count": 0,
      "outputs": [
        {
          "output_type": "execute_result",
          "data": {
            "text/plain": [
              "array([[1., 1., 1., 1.],\n",
              "       [1., 1., 1., 1.]])"
            ]
          },
          "metadata": {
            "tags": []
          },
          "execution_count": 76
        }
      ]
    },
    {
      "cell_type": "code",
      "metadata": {
        "id": "cNXnfUQKQNqb",
        "colab_type": "code",
        "outputId": "f76f0a41-d270-4204-ba42-943cdf438ec1",
        "colab": {
          "base_uri": "https://localhost:8080/",
          "height": 50
        }
      },
      "source": [
        "np.full((2,4), 7 )   #  Fill the array of size 2x4 with 7"
      ],
      "execution_count": 0,
      "outputs": [
        {
          "output_type": "execute_result",
          "data": {
            "text/plain": [
              "array([[7, 7, 7, 7],\n",
              "       [7, 7, 7, 7]])"
            ]
          },
          "metadata": {
            "tags": []
          },
          "execution_count": 78
        }
      ]
    },
    {
      "cell_type": "code",
      "metadata": {
        "id": "3eNf7rD1QbLr",
        "colab_type": "code",
        "outputId": "722f5f4a-1de3-44c8-b6f0-bc2d5ed829ed",
        "colab": {
          "base_uri": "https://localhost:8080/",
          "height": 84
        }
      },
      "source": [
        "import numpy as np\n",
        "x=np.array([ [1,2],[3,4],[5,6],[7,8] ])\n",
        "\n",
        "print(x[1:,[0,1]])\n",
        "print(x.shape)"
      ],
      "execution_count": 0,
      "outputs": [
        {
          "output_type": "stream",
          "text": [
            "[[3 4]\n",
            " [5 6]\n",
            " [7 8]]\n",
            "(4, 2)\n"
          ],
          "name": "stdout"
        }
      ]
    },
    {
      "cell_type": "code",
      "metadata": {
        "id": "KyYEH0ZiHtFy",
        "colab_type": "code",
        "colab": {}
      },
      "source": [
        ""
      ],
      "execution_count": 0,
      "outputs": []
    }
  ]
}