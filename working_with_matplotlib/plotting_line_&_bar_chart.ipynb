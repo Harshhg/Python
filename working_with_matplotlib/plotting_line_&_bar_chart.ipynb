{
  "nbformat": 4,
  "nbformat_minor": 0,
  "metadata": {
    "colab": {
      "name": "plotting_line_&_bar_chart.ipynb",
      "version": "0.3.2",
      "provenance": [],
      "collapsed_sections": []
    },
    "kernelspec": {
      "name": "python3",
      "display_name": "Python 3"
    }
  },
  "cells": [
    {
      "cell_type": "code",
      "metadata": {
        "id": "UxzXtdBUTdSi",
        "colab_type": "code",
        "outputId": "1c27f537-9625-4196-be7f-20f1eefdc309",
        "colab": {
          "base_uri": "https://localhost:8080/",
          "height": 283
        }
      },
      "source": [
        "import matplotlib.pyplot as plt\n",
        "x=[1,2,9]\n",
        "y=[2,5,6]\n",
        "plt.xlabel(\"TIME\")  # gives X label\n",
        "plt.ylabel(\"Speed\") # Gives Y label\n",
        "\n",
        "\n",
        "x1=[2,4,6]\n",
        "y1=[1,3,5]\n",
        "plt.plot(x1,y1,color='red',label=\"WATER\")\n",
        "plt.plot(x,y,label=\"RIVER\")\n",
        "\n",
        "plt.legend()    #   To display the labels added in the plot function.\n",
        "\n",
        "plt.xlim(0,8)   #  To define the X axis range in graph\n",
        "plt.ylim(0,10)  #  To define the Y axis range in graph\n",
        "\n",
        "\n",
        "plt.grid(color='green')  # Display the Grids\n",
        "plt.show()"
      ],
      "execution_count": 1,
      "outputs": [
        {
          "output_type": "display_data",
          "data": {
            "image/png": "[encoded data removed]",
            "text/plain": [
              "<Figure size 432x288 with 1 Axes>"
            ]
          },
          "metadata": {
            "tags": []
          }
        }
      ]
    },
    {
      "cell_type": "code",
      "metadata": {
        "id": "oxH6Rb19TnI1",
        "colab_type": "code",
        "colab": {
          "base_uri": "https://localhost:8080/",
          "height": 269
        },
        "outputId": "873b002d-e068-46ba-b3af-4a870c2670bc"
      },
      "source": [
        "plt.bar(x,y)\n",
        "plt.bar(x1,y1)\n",
        "plt.grid(color='green')\n",
        "plt.show()"
      ],
      "execution_count": 5,
      "outputs": [
        {
          "output_type": "display_data",
          "data": {
            "image/png": "[encoded data removed]",
            "text/plain": [
              "<Figure size 432x288 with 1 Axes>"
            ]
          },
          "metadata": {
            "tags": []
          }
        }
      ]
    },
    {
      "cell_type": "markdown",
      "metadata": {
        "id": "22t7tNKIhcx5",
        "colab_type": "text"
      },
      "source": [
        ""
      ]
    }
  ]
}