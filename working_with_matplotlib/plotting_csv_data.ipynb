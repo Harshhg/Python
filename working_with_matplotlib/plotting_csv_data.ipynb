{
  "nbformat": 4,
  "nbformat_minor": 0,
  "metadata": {
    "colab": {
      "name": "plotting_csv_data.ipynb",
      "version": "0.3.2",
      "provenance": [],
      "collapsed_sections": []
    },
    "kernelspec": {
      "name": "python3",
      "display_name": "Python 3"
    }
  },
  "cells": [
    {
      "cell_type": "code",
      "metadata": {
        "id": "rw1kJYjXe7-5",
        "colab_type": "code",
        "colab": {}
      },
      "source": [
        "import matplotlib.pyplot as plt\n",
        "import pandas as pd"
      ],
      "execution_count": 0,
      "outputs": []
    },
    {
      "cell_type": "code",
      "metadata": {
        "id": "4fBtG5Pye9dV",
        "colab_type": "code",
        "colab": {
          "base_uri": "https://localhost:8080/",
          "height": 269
        },
        "outputId": "f8801958-7502-4445-f532-9191326b9475"
      },
      "source": [
        "df = pd.read_csv('data.csv')\n",
        "\n",
        "# Plotting name on x axis...and age on y axis\n",
        "plt.plot(df.iloc[0:,0],df.iloc[0:,1],label=\"Age\")\n",
        "\n",
        "# Plotting name on x axis.. and marks on y axis\n",
        "plt.plot(df.iloc[0:,0],df.iloc[0:,3], label=\"Marks\")\n",
        "# Setting limit of y axis\n",
        "plt.ylim(0,100)\n",
        "\n",
        "\n",
        "plt.grid()\n",
        "plt.legend()\n",
        "plt.show()\n"
      ],
      "execution_count": 55,
      "outputs": [
        {
          "output_type": "display_data",
          "data": {
            "image/png": "[encoded data removed]",
            "text/plain": [
              "<Figure size 432x288 with 1 Axes>"
            ]
          },
          "metadata": {
            "tags": []
          }
        }
      ]
    },
    {
      "cell_type": "code",
      "metadata": {
        "id": "_hK3u_Mte_hm",
        "colab_type": "code",
        "colab": {}
      },
      "source": [
        "# << data.csv >>\n",
        "\n",
        "'''\n",
        "name,age,city,marks\n",
        "harsh,20,jaipur,90\n",
        "harshit,21,jaipur,48\n",
        "ankit,21,ajmer,29\n",
        "dhruv,22,ajmer,56\n",
        "kp,20,jaipur,37\n",
        "akshay,21,kota,03\n",
        "shikha,21,jaipur,60\n",
        "'''"
      ],
      "execution_count": 0,
      "outputs": []
    },
    {
      "cell_type": "code",
      "metadata": {
        "id": "mBEpMEmQfg-s",
        "colab_type": "code",
        "colab": {}
      },
      "source": [
        ""
      ],
      "execution_count": 0,
      "outputs": []
    }
  ]
}